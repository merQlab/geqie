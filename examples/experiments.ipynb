{
 "cells": [
  {
   "cell_type": "markdown",
   "metadata": {},
   "source": [
    "# Experimental pipeline for GEQIE"
   ]
  },
  {
   "cell_type": "markdown",
   "metadata": {},
   "source": [
    "## Setup"
   ]
  },
  {
   "cell_type": "markdown",
   "metadata": {},
   "source": [
    "### Imports"
   ]
  },
  {
   "cell_type": "code",
   "execution_count": 39,
   "metadata": {},
   "outputs": [],
   "source": [
    "import json\n",
    "import subprocess\n",
    "import tempfile\n",
    "\n",
    "import pandas as pd\n",
    "\n",
    "from concurrent import futures\n",
    "from pathlib import Path\n",
    "from typing import Any, Dict"
   ]
  },
  {
   "cell_type": "code",
   "execution_count": 2,
   "metadata": {},
   "outputs": [
    {
     "data": {
      "text/html": [
       "\n",
       "<script>\n",
       "function code_toggle(id) {\n",
       "    var cells = document.querySelectorAll(\".jp-CodeCell\");\n",
       "    for (var cell of cells) {\n",
       "        if (cell.querySelector(\"#\" + id) !== null) {\n",
       "            var div = cell.querySelector(\".jp-InputArea\");\n",
       "            if (div.style.display === \"none\") {\n",
       "                div.style.display = \"block\";\n",
       "            } else {\n",
       "                div.style.display = \"none\";\n",
       "            }\n",
       "        }\n",
       "    }\n",
       "}\n",
       "</script>\n"
      ],
      "text/plain": [
       "<IPython.core.display.HTML object>"
      ]
     },
     "metadata": {},
     "output_type": "display_data"
    }
   ],
   "source": [
    "%load_ext ipyform\n",
    "%form_config --auto-detect 1"
   ]
  },
  {
   "cell_type": "markdown",
   "metadata": {},
   "source": [
    "### Configurations"
   ]
  },
  {
   "cell_type": "code",
   "execution_count": 62,
   "metadata": {},
   "outputs": [
    {
     "data": {
      "application/vnd.jupyter.widget-view+json": {
       "model_id": "c5f294eaa51641a9a175d1fc84db55a8",
       "version_major": 2,
       "version_minor": 0
      },
      "text/plain": [
       "FormWidget(children=(VBox(children=(HTML(value=''), HTML(value='<h4>Input and output paths</h4>'), Box(childre…"
      ]
     },
     "execution_count": 62,
     "metadata": {},
     "output_type": "execute_result"
    }
   ],
   "source": [
    "# @markdown #### Input and output paths\n",
    "input_path = \"../assets/grayscale\" # @param {type:\"string\"}\n",
    "output_path = \"../.outputs\"        # @param {type:\"string\"}\n",
    "\n",
    "\n",
    "# @markdown #### Encoding \n",
    "encoding_method = \"frqi\"           # @param {type:\"string\"}\n",
    "grayscale = True                   # @param {type:\"boolean\"}\n",
    "n_shots = 1024                     # @param {type:\"integer\"}\n",
    "return_padded_counts = True        # @param {type:\"boolean\"}\n",
    "\n",
    "# @markdown #### Concurrency config\n",
    "max_concurrency = None             # @param {type:\"integer\"}\n",
    "# @markdown **NOTE:** Type `None` for default value of `max_concurrency` (number of all available system CPUs)\n",
    "\n",
    "input_path = Path(input_path)"
   ]
  },
  {
   "cell_type": "markdown",
   "metadata": {},
   "source": [
    "### Processing functions"
   ]
  },
  {
   "cell_type": "code",
   "execution_count": 63,
   "metadata": {},
   "outputs": [],
   "source": [
    "# @title Processing Functions\n",
    "\n",
    "def process_file(\n",
    "        input_path: str, \n",
    "        encoding_method: str, \n",
    "        n_shots: int, \n",
    "        grayscale: bool,\n",
    "        return_padded_counts: bool,\n",
    "        workdir: str,\n",
    ") -> Dict[str, Any]:\n",
    "    process_result = subprocess.run(\n",
    "        f\"geqie simulate \\\n",
    "            --encoding {encoding_method} \\\n",
    "            --image {input_path} \\\n",
    "            --n-shots {n_shots} \\\n",
    "            --return-padded-counts {return_padded_counts} \\\n",
    "            --grayscale {grayscale}\",\n",
    "        capture_output=True,\n",
    "    )\n",
    "\n",
    "    if process_result.returncode:\n",
    "        raise RuntimeError(process_result.stderr.decode(\"utf-8\"))\n",
    "\n",
    "    with tempfile.TemporaryFile(dir=workdir, mode=\"w\", delete=False) as output_file:\n",
    "        df = pd.DataFrame(\n",
    "            columns=[\"file_name\", \"result\"],\n",
    "            data=[[\n",
    "                input_path,\n",
    "                json.dumps(json.loads(process_result.stdout.decode(\"utf-8\")))\n",
    "            ]]\n",
    "        )\n",
    "        df.to_csv(output_file, sep=\"\\t\", index=False)\n",
    "\n",
    "    return df\n",
    "\n",
    "def process_directory(\n",
    "        input_path: Path, \n",
    "        encoding_method: str, \n",
    "        n_shots: int, \n",
    "        grayscale: bool,\n",
    "        return_padded_counts: bool, \n",
    "        workdir: str,\n",
    ") -> Dict[str, Any]:\n",
    "    workdir_path = Path(workdir)\n",
    "    input_files = input_path.glob(\"*\")\n",
    "\n",
    "    with futures.ThreadPoolExecutor() as executor:\n",
    "        execute_futures = [\n",
    "            executor.submit(\n",
    "                process_file,\n",
    "                input_file_path,\n",
    "                encoding_method,\n",
    "                n_shots,\n",
    "                grayscale,\n",
    "                return_padded_counts,\n",
    "                workdir,\n",
    "            ) for input_file_path in input_files\n",
    "        ]\n",
    "\n",
    "    for f in execute_futures:\n",
    "        f.result()\n",
    "\n",
    "    dfs = []\n",
    "    for temp_file_path in workdir_path.glob(\"*\"):\n",
    "        dfs.append(pd.read_csv(temp_file_path, sep=\"\\t\"))\n",
    "    \n",
    "    return pd.concat(dfs)\n"
   ]
  },
  {
   "cell_type": "markdown",
   "metadata": {},
   "source": [
    "### Run"
   ]
  },
  {
   "cell_type": "code",
   "execution_count": 64,
   "metadata": {},
   "outputs": [
    {
     "name": "stdout",
     "output_type": "stream",
     "text": [
      "                                 file_name  \\\n",
      "0  ..\\assets\\grayscale\\test_image_1010.png   \n",
      "0         ..\\assets\\grayscale\\test_2x4.png   \n",
      "0   ..\\assets\\grayscale\\test_image0xf0.png   \n",
      "0       ..\\assets\\grayscale\\test_image.png   \n",
      "0       ..\\assets\\grayscale\\full_white.png   \n",
      "0   ..\\assets\\grayscale\\test_image_4x4.png   \n",
      "0    ..\\assets\\grayscale\\test_flag_4x4.png   \n",
      "\n",
      "                                              result  \n",
      "0  {\"000\": 0, \"001\": 237, \"010\": 96, \"011\": 174, ...  \n",
      "0  {\"00000\": 0, \"00001\": 65, \"00010\": 0, \"00011\":...  \n",
      "0  {\"000\": 132, \"001\": 106, \"010\": 138, \"011\": 10...  \n",
      "0  {\"000\": 0, \"001\": 259, \"010\": 37, \"011\": 231, ...  \n",
      "0  {\"000\": 0, \"001\": 251, \"010\": 0, \"011\": 253, \"...  \n",
      "0  {\"00000\": 0, \"00001\": 72, \"00010\": 58, \"00011\"...  \n",
      "0  {\"00000\": 0, \"00001\": 59, \"00010\": 0, \"00011\":...  \n"
     ]
    }
   ],
   "source": [
    "# @title Run\n",
    "\n",
    "def run():\n",
    "    with tempfile.TemporaryDirectory() as workdir:\n",
    "        if input_path.is_file():\n",
    "            df = process_file(\n",
    "                input_path=input_path,\n",
    "                encoding_method=encoding_method,\n",
    "                n_shots=n_shots,\n",
    "                return_padded_counts=return_padded_counts,\n",
    "                grayscale=grayscale,\n",
    "                workdir=workdir,\n",
    "            )\n",
    "        if input_path.is_dir():\n",
    "            df = process_directory(\n",
    "                input_path=input_path,\n",
    "                encoding_method=encoding_method,\n",
    "                n_shots=n_shots,\n",
    "                return_padded_counts=return_padded_counts,\n",
    "                grayscale=grayscale,\n",
    "                workdir=workdir,\n",
    "            )\n",
    "\n",
    "    print(df)\n",
    "\n",
    "run()"
   ]
  },
  {
   "cell_type": "code",
   "execution_count": null,
   "metadata": {},
   "outputs": [],
   "source": []
  }
 ],
 "metadata": {
  "kernelspec": {
   "display_name": ".venv",
   "language": "python",
   "name": "python3"
  },
  "language_info": {
   "codemirror_mode": {
    "name": "ipython",
    "version": 3
   },
   "file_extension": ".py",
   "mimetype": "text/x-python",
   "name": "python",
   "nbconvert_exporter": "python",
   "pygments_lexer": "ipython3",
   "version": "3.11.11"
  }
 },
 "nbformat": 4,
 "nbformat_minor": 2
}
