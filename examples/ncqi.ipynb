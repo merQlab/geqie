{
 "cells": [
  {
   "cell_type": "markdown",
   "metadata": {},
   "source": [
    "# GEQIE NEQR Example"
   ]
  },
  {
   "cell_type": "markdown",
   "metadata": {},
   "source": [
    "## Setup"
   ]
  },
  {
   "cell_type": "markdown",
   "metadata": {},
   "source": [
    "### Imports"
   ]
  },
  {
   "cell_type": "code",
   "execution_count": 1,
   "metadata": {},
   "outputs": [],
   "source": [
    "import numpy as np\n",
    "from PIL import Image, ImageOps\n",
    "\n",
    "import matplotlib.pyplot as plt\n",
    "# import seaborn as sns\n",
    "\n",
    "import geqie\n",
    "from geqie.encodings import neqr"
   ]
  },
  {
   "cell_type": "markdown",
   "metadata": {},
   "source": [
    "## Encoding"
   ]
  },
  {
   "cell_type": "markdown",
   "metadata": {},
   "source": [
    "### Opening the image"
   ]
  },
  {
   "cell_type": "markdown",
   "metadata": {},
   "source": [
    "Opening the test image and normalizing its pixel values to $[0.0, 1.0]$."
   ]
  },
  {
   "cell_type": "code",
   "execution_count": 4,
   "metadata": {},
   "outputs": [
    {
     "data": {
      "text/plain": [
       "<matplotlib.image.AxesImage at 0x205fdf5c610>"
      ]
     },
     "execution_count": 4,
     "metadata": {},
     "output_type": "execute_result"
    },
    {
     "data": {
      "image/png": "[encoded data removed]",
      "text/plain": [
       "<Figure size 640x480 with 1 Axes>"
      ]
     },
     "metadata": {},
     "output_type": "display_data"
    }
   ],
   "source": [
    "image = Image.open(\"../assets/rgb4x4.png\")\n",
    "image = np.asarray(image)\n",
    "plt.imshow(image)"
   ]
  },
  {
   "cell_type": "markdown",
   "metadata": {},
   "source": [
    "### Encoding using unitary gate"
   ]
  },
  {
   "cell_type": "code",
   "execution_count": 6,
   "metadata": {},
   "outputs": [
    {
     "ename": "TypeError",
     "evalue": "only integer scalar arrays can be converted to a scalar index",
     "output_type": "error",
     "traceback": [
      "\u001b[1;31m---------------------------------------------------------------------------\u001b[0m",
      "\u001b[1;31mTypeError\u001b[0m                                 Traceback (most recent call last)",
      "Cell \u001b[1;32mIn[6], line 1\u001b[0m\n\u001b[1;32m----> 1\u001b[0m circuit \u001b[38;5;241m=\u001b[39m \u001b[43mgeqie\u001b[49m\u001b[38;5;241;43m.\u001b[39;49m\u001b[43mencode\u001b[49m\u001b[43m(\u001b[49m\u001b[43mneqr\u001b[49m\u001b[38;5;241;43m.\u001b[39;49m\u001b[43minit_function\u001b[49m\u001b[43m,\u001b[49m\u001b[43m \u001b[49m\u001b[43mneqr\u001b[49m\u001b[38;5;241;43m.\u001b[39;49m\u001b[43mdata_function\u001b[49m\u001b[43m,\u001b[49m\u001b[43m \u001b[49m\u001b[43mneqr\u001b[49m\u001b[38;5;241;43m.\u001b[39;49m\u001b[43mmap_function\u001b[49m\u001b[43m,\u001b[49m\u001b[43m \u001b[49m\u001b[43mimage\u001b[49m\u001b[43m)\u001b[49m\n\u001b[0;32m      2\u001b[0m circuit\u001b[38;5;241m.\u001b[39mdraw(output\u001b[38;5;241m=\u001b[39m\u001b[38;5;124m'\u001b[39m\u001b[38;5;124mmpl\u001b[39m\u001b[38;5;124m'\u001b[39m)\n",
      "File \u001b[1;32me:\\dokumenty\\doktorat\\python\\geqie\\geqie\\main.py:31\u001b[0m, in \u001b[0;36mencode\u001b[1;34m(init_function, data_function, map_function, image, ctx)\u001b[0m\n\u001b[0;32m     29\u001b[0m \u001b[38;5;28;01mfor\u001b[39;00m u, v \u001b[38;5;129;01min\u001b[39;00m itertools\u001b[38;5;241m.\u001b[39mproduct(\u001b[38;5;28mrange\u001b[39m(image\u001b[38;5;241m.\u001b[39mshape[\u001b[38;5;241m0\u001b[39m]), \u001b[38;5;28mrange\u001b[39m(image\u001b[38;5;241m.\u001b[39mshape[\u001b[38;5;241m1\u001b[39m])):\n\u001b[0;32m     30\u001b[0m     data_vector \u001b[38;5;241m=\u001b[39m data_function(u, v, R, image)\n\u001b[1;32m---> 31\u001b[0m     map_operator \u001b[38;5;241m=\u001b[39m \u001b[43mmap_function\u001b[49m\u001b[43m(\u001b[49m\u001b[43mu\u001b[49m\u001b[43m,\u001b[49m\u001b[43m \u001b[49m\u001b[43mv\u001b[49m\u001b[43m,\u001b[49m\u001b[43m \u001b[49m\u001b[43mR\u001b[49m\u001b[43m,\u001b[49m\u001b[43m \u001b[49m\u001b[43mimage\u001b[49m\u001b[43m)\u001b[49m\n\u001b[0;32m     32\u001b[0m     product \u001b[38;5;241m=\u001b[39m data_vector\u001b[38;5;241m.\u001b[39mto_operator() \u001b[38;5;241m^\u001b[39m map_operator\n\u001b[0;32m     33\u001b[0m     products\u001b[38;5;241m.\u001b[39mappend(product)\n",
      "File \u001b[1;32me:\\dokumenty\\doktorat\\python\\geqie\\geqie\\encodings\\neqr\\map.py:12\u001b[0m, in \u001b[0;36mmap\u001b[1;34m(u, v, R, image)\u001b[0m\n\u001b[0;32m     10\u001b[0m p \u001b[38;5;241m=\u001b[39m image[u, v]\n\u001b[0;32m     11\u001b[0m \u001b[38;5;66;03m# Convert value to string to the binary form, cut '0b', and padd with 0 example: '0001 1101':\u001b[39;00m\n\u001b[1;32m---> 12\u001b[0m pixel_value_as_binary_string \u001b[38;5;241m=\u001b[39m \u001b[38;5;28;43mbin\u001b[39;49m\u001b[43m(\u001b[49m\u001b[43mp\u001b[49m\u001b[43m)\u001b[49m[\u001b[38;5;241m2\u001b[39m:]\u001b[38;5;241m.\u001b[39mzfill(\u001b[38;5;241m8\u001b[39m)\n\u001b[0;32m     13\u001b[0m \u001b[38;5;66;03m# Convert to logic array:\u001b[39;00m\n\u001b[0;32m     14\u001b[0m pixel_value_as_binary_array \u001b[38;5;241m=\u001b[39m [\u001b[38;5;28mint\u001b[39m(bit) \u001b[38;5;28;01mfor\u001b[39;00m bit \u001b[38;5;129;01min\u001b[39;00m pixel_value_as_binary_string][::\u001b[38;5;241m-\u001b[39m\u001b[38;5;241m1\u001b[39m]\n",
      "\u001b[1;31mTypeError\u001b[0m: only integer scalar arrays can be converted to a scalar index"
     ]
    }
   ],
   "source": [
    "circuit = geqie.encode(neqr.init_function, neqr.data_function, neqr.map_function, image)\n",
    "circuit.draw(output='mpl')"
   ]
  },
  {
   "cell_type": "markdown",
   "metadata": {},
   "source": [
    "### Simulating the circuit"
   ]
  },
  {
   "cell_type": "code",
   "execution_count": 37,
   "metadata": {},
   "outputs": [],
   "source": [
    "result = geqie.simulate(circuit, 1000)"
   ]
  },
  {
   "cell_type": "markdown",
   "metadata": {},
   "source": [
    "## Interpretation of the results"
   ]
  },
  {
   "cell_type": "markdown",
   "metadata": {},
   "source": [
    "Total state $\\ket{\\psi}$ is equal to:\n",
    "$$\\ket{\\psi} = \\ket{X\\_ coordinates}^{log_2(x)}\\otimes\\ket{Y\\_ coordinates}^{log_2(y)}\\otimes\\ket{color}^{\\otimes 8}$$\n",
    "Where:\n",
    "- $\\ket{X\\_ coordinates}^{log_2(x)}$ and $\\ket{Y\\_ coordinates}^{log_2(y)}$ corresponds to X and Y positions encodings respectively,\n",
    "- Last 8 qubits corresponds to color intensity, for example: $77 = \\ket{01001101}$ (corresponds to $2^6+2^3+2^2+2^0$)."
   ]
  },
  {
   "cell_type": "code",
   "execution_count": 35,
   "metadata": {},
   "outputs": [
    {
     "name": "stdout",
     "output_type": "stream",
     "text": [
      "\n",
      "Original image:\n",
      "[[255   0 255 127]\n",
      " [255   0   0 255]\n",
      " [195 255 255 255]\n",
      " [255 195   0 255]]\n",
      "Retrived image:\n",
      "[[255   0 255 127]\n",
      " [255   0   0 255]\n",
      " [195 255 255 255]\n",
      " [255 195   0 255]]\n"
     ]
    }
   ],
   "source": [
    "retrived_image = np.zeros_like(image)\n",
    "\n",
    "for state, n in result.items():\n",
    "    if n > 0:\n",
    "        x = state[0:2]\n",
    "        y = state[2:4]\n",
    "\n",
    "        c = state[4:12]\n",
    "        # print(f'x:{x}_y:{y}_c:{c}')\n",
    "\n",
    "        x_dec = int(x, base=2)\n",
    "        y_dec = int(y, base=2)\n",
    "        c_dec = int(c, base=2)\n",
    "        retrived_image[x_dec, y_dec] = c_dec\n",
    "\n",
    "\n",
    "print('\\nOriginal image:')\n",
    "print(image)\n",
    "print('Retrived image:')\n",
    "print(f\"{retrived_image}\")\n"
   ]
  },
  {
   "cell_type": "markdown",
   "metadata": {},
   "source": [
    "### Retrived image"
   ]
  },
  {
   "cell_type": "code",
   "execution_count": 36,
   "metadata": {},
   "outputs": [
    {
     "data": {
      "text/plain": [
       "<matplotlib.image.AxesImage at 0x156625e6b90>"
      ]
     },
     "execution_count": 36,
     "metadata": {},
     "output_type": "execute_result"
    },
    {
     "data": {
      "image/png": "[encoded data removed]",
      "text/plain": [
       "<Figure size 640x480 with 2 Axes>"
      ]
     },
     "metadata": {},
     "output_type": "display_data"
    }
   ],
   "source": [
    "f = plt.figure()\n",
    "gs = f.add_gridspec(1, 2)\n",
    "\n",
    "ax = f.add_subplot(gs[0, 0])\n",
    "ax.set_title(\"original\")\n",
    "ax.imshow(image, cmap='gray')\n",
    "\n",
    "ax = f.add_subplot(gs[0, 1])\n",
    "ax.set_title(\"reconstructed\")\n",
    "ax.imshow(retrived_image, cmap='gray')\n"
   ]
  }
 ],
 "metadata": {
  "kernelspec": {
   "display_name": ".venv",
   "language": "python",
   "name": "python3"
  },
  "language_info": {
   "codemirror_mode": {
    "name": "ipython",
    "version": 3
   },
   "file_extension": ".py",
   "mimetype": "text/x-python",
   "name": "python",
   "nbconvert_exporter": "python",
   "pygments_lexer": "ipython3",
   "version": "3.11.5"
  }
 },
 "nbformat": 4,
 "nbformat_minor": 4
}
